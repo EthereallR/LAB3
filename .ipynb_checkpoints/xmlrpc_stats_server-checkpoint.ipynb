{
 "cells": [
  {
   "cell_type": "markdown",
   "metadata": {},
   "source": [
    "#### Файл сервера xmlrpc_stats_server_p3.ipynb на Python 3 "
   ]
  },
  {
   "cell_type": "code",
   "execution_count": null,
   "metadata": {},
   "outputs": [
    {
     "name": "stdout",
     "output_type": "stream",
     "text": [
      "Listening on port 8018...\n"
     ]
    },
    {
     "name": "stderr",
     "output_type": "stream",
     "text": [
      "127.0.0.1 - - [07/Nov/2023 03:20:29] \"POST /RPC2 HTTP/1.1\" 200 -\n",
      "127.0.0.1 - - [07/Nov/2023 03:20:35] \"POST /RPC2 HTTP/1.1\" 200 -\n",
      "127.0.0.1 - - [07/Nov/2023 03:20:41] \"POST /RPC2 HTTP/1.1\" 200 -\n",
      "127.0.0.1 - - [07/Nov/2023 03:20:47] \"POST /RPC2 HTTP/1.1\" 200 -\n",
      "127.0.0.1 - - [07/Nov/2023 03:20:53] \"POST /RPC2 HTTP/1.1\" 200 -\n",
      "127.0.0.1 - - [07/Nov/2023 03:20:59] \"POST /RPC2 HTTP/1.1\" 200 -\n",
      "127.0.0.1 - - [07/Nov/2023 03:21:05] \"POST /RPC2 HTTP/1.1\" 200 -\n",
      "127.0.0.1 - - [07/Nov/2023 03:21:11] \"POST /RPC2 HTTP/1.1\" 200 -\n",
      "127.0.0.1 - - [07/Nov/2023 03:21:18] \"POST /RPC2 HTTP/1.1\" 200 -\n",
      "127.0.0.1 - - [07/Nov/2023 03:21:24] \"POST /RPC2 HTTP/1.1\" 200 -\n",
      "127.0.0.1 - - [07/Nov/2023 03:21:30] \"POST /RPC2 HTTP/1.1\" 200 -\n"
     ]
    },
    {
     "name": "stdout",
     "output_type": "stream",
     "text": [
      "[(1, 'ping', '2023-11-07 03:20:24', '0:00:02.045660'), (2, 'now', '2023-11-07 03:20:31', '0:00:02.050779'), (3, 'type', '2023-11-07 03:20:37', '0:00:02.043299'), (4, 'type', '2023-11-07 03:20:43', '0:00:02.021788'), (5, 'type', '2023-11-07 03:20:49', '0:00:02.045275'), (6, 'type', '2023-11-07 03:20:55', '0:00:02.045432'), (7, 'type', '2023-11-07 03:21:01', '0:00:02.047233'), (8, 'type', '2023-11-07 03:21:07', '0:00:02.030991'), (9, 'type', '2023-11-07 03:21:13', '0:00:02.059774'), (10, 'pow', '2023-11-07 03:21:26', '0:00:02.037228')]\n"
     ]
    },
    {
     "name": "stderr",
     "output_type": "stream",
     "text": [
      "127.0.0.1 - - [07/Nov/2023 03:21:58] \"POST /RPC2 HTTP/1.1\" 200 -\n"
     ]
    },
    {
     "name": "stdout",
     "output_type": "stream",
     "text": [
      "[(1, 'ping', '2023-11-07 03:20:24', '0:00:02.045660'), (2, 'now', '2023-11-07 03:20:31', '0:00:02.050779'), (3, 'type', '2023-11-07 03:20:37', '0:00:02.043299'), (4, 'type', '2023-11-07 03:20:43', '0:00:02.021788'), (5, 'type', '2023-11-07 03:20:49', '0:00:02.045275'), (6, 'type', '2023-11-07 03:20:55', '0:00:02.045432'), (7, 'type', '2023-11-07 03:21:01', '0:00:02.047233'), (8, 'type', '2023-11-07 03:21:07', '0:00:02.030991'), (9, 'type', '2023-11-07 03:21:13', '0:00:02.059774'), (10, 'pow', '2023-11-07 03:21:26', '0:00:02.037228')]\n"
     ]
    },
    {
     "name": "stderr",
     "output_type": "stream",
     "text": [
      "127.0.0.1 - - [07/Nov/2023 03:22:38] \"POST /RPC2 HTTP/1.1\" 200 -\n"
     ]
    },
    {
     "name": "stdout",
     "output_type": "stream",
     "text": [
      "[(1, 'ping', '2023-11-07 03:20:24', '0:00:02.045660'), (2, 'now', '2023-11-07 03:20:31', '0:00:02.050779'), (3, 'type', '2023-11-07 03:20:37', '0:00:02.043299'), (4, 'type', '2023-11-07 03:20:43', '0:00:02.021788'), (5, 'type', '2023-11-07 03:20:49', '0:00:02.045275'), (6, 'type', '2023-11-07 03:20:55', '0:00:02.045432'), (7, 'type', '2023-11-07 03:21:01', '0:00:02.047233'), (8, 'type', '2023-11-07 03:21:07', '0:00:02.030991'), (9, 'type', '2023-11-07 03:21:13', '0:00:02.059774'), (10, 'pow', '2023-11-07 03:21:26', '0:00:02.037228')]\n"
     ]
    },
    {
     "name": "stderr",
     "output_type": "stream",
     "text": [
      "127.0.0.1 - - [07/Nov/2023 03:23:26] \"POST /RPC2 HTTP/1.1\" 200 -\n",
      "127.0.0.1 - - [07/Nov/2023 03:23:52] \"POST /RPC2 HTTP/1.1\" 200 -\n",
      "127.0.0.1 - - [07/Nov/2023 03:23:58] \"POST /RPC2 HTTP/1.1\" 200 -\n",
      "127.0.0.1 - - [07/Nov/2023 03:24:04] \"POST /RPC2 HTTP/1.1\" 200 -\n",
      "127.0.0.1 - - [07/Nov/2023 03:24:10] \"POST /RPC2 HTTP/1.1\" 200 -\n",
      "127.0.0.1 - - [07/Nov/2023 03:24:17] \"POST /RPC2 HTTP/1.1\" 200 -\n",
      "127.0.0.1 - - [07/Nov/2023 03:24:23] \"POST /RPC2 HTTP/1.1\" 200 -\n",
      "127.0.0.1 - - [07/Nov/2023 03:24:29] \"POST /RPC2 HTTP/1.1\" 200 -\n",
      "127.0.0.1 - - [07/Nov/2023 03:24:35] \"POST /RPC2 HTTP/1.1\" 200 -\n",
      "127.0.0.1 - - [07/Nov/2023 03:24:41] \"POST /RPC2 HTTP/1.1\" 200 -\n",
      "127.0.0.1 - - [07/Nov/2023 03:24:47] \"POST /RPC2 HTTP/1.1\" 200 -\n",
      "127.0.0.1 - - [07/Nov/2023 03:24:53] \"POST /RPC2 HTTP/1.1\" 200 -\n"
     ]
    },
    {
     "name": "stdout",
     "output_type": "stream",
     "text": [
      "[(1, 'ping', '2023-11-07 03:20:24', '0:00:02.045660'), (2, 'now', '2023-11-07 03:20:31', '0:00:02.050779'), (3, 'type', '2023-11-07 03:20:37', '0:00:02.043299'), (4, 'type', '2023-11-07 03:20:43', '0:00:02.021788'), (5, 'type', '2023-11-07 03:20:49', '0:00:02.045275'), (6, 'type', '2023-11-07 03:20:55', '0:00:02.045432'), (7, 'type', '2023-11-07 03:21:01', '0:00:02.047233'), (8, 'type', '2023-11-07 03:21:07', '0:00:02.030991'), (9, 'type', '2023-11-07 03:21:13', '0:00:02.059774'), (10, 'pow', '2023-11-07 03:21:26', '0:00:02.037228'), (11, 'ping', '2023-11-07 03:23:48', '0:00:02.057391'), (12, 'now', '2023-11-07 03:23:54', '0:00:02.037900'), (13, 'type', '2023-11-07 03:24:00', '0:00:02.029368'), (14, 'type', '2023-11-07 03:24:06', '0:00:02.032771'), (15, 'type', '2023-11-07 03:24:12', '0:00:02.034797'), (16, 'type', '2023-11-07 03:24:19', '0:00:02.029810'), (17, 'type', '2023-11-07 03:24:25', '0:00:02.035742'), (18, 'type', '2023-11-07 03:24:31', '0:00:02.035634'), (19, 'type', '2023-11-07 03:24:37', '0:00:02.031754'), (20, 'pow', '2023-11-07 03:24:49', '0:00:02.033626')]\n"
     ]
    },
    {
     "name": "stderr",
     "output_type": "stream",
     "text": [
      "127.0.0.1 - - [07/Nov/2023 03:24:55] \"POST /RPC2 HTTP/1.1\" 200 -\n",
      "127.0.0.1 - - [07/Nov/2023 03:25:03] \"POST /RPC2 HTTP/1.1\" 200 -\n",
      "127.0.0.1 - - [07/Nov/2023 03:25:16] \"POST /RPC2 HTTP/1.1\" 200 -\n",
      "127.0.0.1 - - [07/Nov/2023 03:25:35] \"POST /RPC2 HTTP/1.1\" 200 -\n",
      "127.0.0.1 - - [07/Nov/2023 03:25:45] \"POST /RPC2 HTTP/1.1\" 200 -\n",
      "127.0.0.1 - - [07/Nov/2023 03:25:55] \"POST /RPC2 HTTP/1.1\" 200 -\n",
      "127.0.0.1 - - [07/Nov/2023 03:26:02] \"POST /RPC2 HTTP/1.1\" 200 -\n",
      "127.0.0.1 - - [07/Nov/2023 03:26:08] \"POST /RPC2 HTTP/1.1\" 200 -\n",
      "127.0.0.1 - - [07/Nov/2023 03:26:14] \"POST /RPC2 HTTP/1.1\" 200 -\n",
      "127.0.0.1 - - [07/Nov/2023 03:26:20] \"POST /RPC2 HTTP/1.1\" 200 -\n",
      "127.0.0.1 - - [07/Nov/2023 03:26:27] \"POST /RPC2 HTTP/1.1\" 200 -\n",
      "127.0.0.1 - - [07/Nov/2023 03:26:38] \"POST /RPC2 HTTP/1.1\" 200 -\n",
      "127.0.0.1 - - [07/Nov/2023 03:26:48] \"POST /RPC2 HTTP/1.1\" 200 -\n",
      "127.0.0.1 - - [07/Nov/2023 03:26:55] \"POST /RPC2 HTTP/1.1\" 200 -\n",
      "127.0.0.1 - - [07/Nov/2023 03:27:02] \"POST /RPC2 HTTP/1.1\" 200 -\n"
     ]
    }
   ],
   "source": [
    "\n",
    "from xmlrpc.server import SimpleXMLRPCServer\n",
    "from xmlrpc.server import SimpleXMLRPCRequestHandler\n",
    "\n",
    "import sqlite3 as sq\n",
    "import datetime\n",
    "\n",
    "class RequestHandler(SimpleXMLRPCRequestHandler):\n",
    "    rpc_paths = ('/RPC2',)\n",
    "\n",
    "server = SimpleXMLRPCServer((\"localhost\", 8018), \n",
    "                            requestHandler=RequestHandler)\n",
    "\n",
    "\n",
    "def init():\n",
    "    creation = \"\"\"\n",
    "               CREATE TABLE IF NOT EXISTS 'events_table'(\n",
    "               'event_id' INTEGER PRIMARY KEY AUTOINCREMENT NOT NULL,\n",
    "               'event_type' TEXT,\n",
    "               'start_time' TEXT,\n",
    "               'time' TEXT);\n",
    "               \"\"\"\n",
    "    cursor.executescript(creation)\n",
    "\n",
    "    \n",
    "def insert(event_type, start_time, time):\n",
    "    insertion = \"\"\"\n",
    "                INSERT INTO events_table (\"event_type\", \"start_time\", \"time\")\n",
    "                VALUES (?, ?, ?);\n",
    "                \"\"\"\n",
    "    cursor.execute(insertion, (event_type, start_time, time))\n",
    "    conn.commit()\n",
    "    \n",
    "\n",
    "    \n",
    "def get_info(event_type, start_time_1, start_time_2, time1, time2):\n",
    "    cursor.execute('SELECT * FROM events_table')\n",
    "    print(cursor.fetchall())\n",
    "    request = \"\"\"\n",
    "              SELECT *\n",
    "              FROM events_table\n",
    "              WHERE event_type = ? AND start_time >= ? AND start_time <= ?\n",
    "              AND time >= ? AND time <= ?;\n",
    "              \"\"\"\n",
    "    cursor.execute(request, (event_type, start_time_1, start_time_2, time1, time2))\n",
    "    return cursor.fetchall()\n",
    "server.register_function(get_info, 'get_info')\n",
    "\n",
    "# Инициализация\n",
    "conn = sq.connect(\"log.db\")\n",
    "cursor = conn.cursor()\n",
    "init()\n",
    "\n",
    "\n",
    "# Добавление строки в лог\n",
    "def add_log(event_type, start_time, time):\n",
    "    insert(event_type, start_time, time)\n",
    "    return True\n",
    "\n",
    "server.register_function(add_log, 'add_log')\n",
    "\n",
    "print (\"Listening on port 8018...\")\n",
    "\n",
    "try:\n",
    "    server.serve_forever()\n",
    "finally:\n",
    "    conn.close()"
   ]
  },
  {
   "cell_type": "code",
   "execution_count": null,
   "metadata": {},
   "outputs": [],
   "source": []
  }
 ],
 "metadata": {
  "kernelspec": {
   "display_name": "Python 3 (ipykernel)",
   "language": "python",
   "name": "python3"
  },
  "language_info": {
   "codemirror_mode": {
    "name": "ipython",
    "version": 3
   },
   "file_extension": ".py",
   "mimetype": "text/x-python",
   "name": "python",
   "nbconvert_exporter": "python",
   "pygments_lexer": "ipython3",
   "version": "3.11.4"
  }
 },
 "nbformat": 4,
 "nbformat_minor": 2
}
