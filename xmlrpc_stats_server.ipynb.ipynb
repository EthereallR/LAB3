{
 "cells": [
  {
   "cell_type": "markdown",
   "metadata": {},
   "source": [
    "#### Файл сервера xmlrpc_stats_server_p3.ipynb на Python 3 "
   ]
  },
  {
   "cell_type": "code",
   "execution_count": null,
   "metadata": {},
   "outputs": [
    {
     "name": "stdout",
     "output_type": "stream",
     "text": [
      "Listening on port 8018...\n"
     ]
    },
    {
     "name": "stderr",
     "output_type": "stream",
     "text": [
      "127.0.0.1 - - [07/Nov/2023 00:09:08] \"POST /RPC2 HTTP/1.1\" 200 -\n",
      "127.0.0.1 - - [07/Nov/2023 00:09:12] \"POST /RPC2 HTTP/1.1\" 200 -\n",
      "127.0.0.1 - - [07/Nov/2023 00:09:16] \"POST /RPC2 HTTP/1.1\" 200 -\n",
      "127.0.0.1 - - [07/Nov/2023 00:09:21] \"POST /RPC2 HTTP/1.1\" 200 -\n",
      "127.0.0.1 - - [07/Nov/2023 00:09:25] \"POST /RPC2 HTTP/1.1\" 200 -\n",
      "127.0.0.1 - - [07/Nov/2023 00:09:29] \"POST /RPC2 HTTP/1.1\" 200 -\n",
      "127.0.0.1 - - [07/Nov/2023 00:09:33] \"POST /RPC2 HTTP/1.1\" 200 -\n",
      "127.0.0.1 - - [07/Nov/2023 00:09:37] \"POST /RPC2 HTTP/1.1\" 200 -\n",
      "127.0.0.1 - - [07/Nov/2023 00:09:41] \"POST /RPC2 HTTP/1.1\" 200 -\n",
      "127.0.0.1 - - [07/Nov/2023 00:09:45] \"POST /RPC2 HTTP/1.1\" 200 -\n",
      "127.0.0.1 - - [07/Nov/2023 00:09:49] \"POST /RPC2 HTTP/1.1\" 200 -\n",
      "127.0.0.1 - - [07/Nov/2023 00:09:51] \"POST /RPC2 HTTP/1.1\" 200 -\n",
      "127.0.0.1 - - [07/Nov/2023 00:09:57] \"POST /RPC2 HTTP/1.1\" 200 -\n",
      "127.0.0.1 - - [07/Nov/2023 00:10:02] \"POST /RPC2 HTTP/1.1\" 200 -\n",
      "127.0.0.1 - - [07/Nov/2023 00:10:13] \"POST /RPC2 HTTP/1.1\" 200 -\n",
      "127.0.0.1 - - [07/Nov/2023 00:10:28] \"POST /RPC2 HTTP/1.1\" 200 -\n",
      "127.0.0.1 - - [07/Nov/2023 00:10:35] \"POST /RPC2 HTTP/1.1\" 200 -\n",
      "127.0.0.1 - - [07/Nov/2023 00:10:41] \"POST /RPC2 HTTP/1.1\" 200 -\n",
      "127.0.0.1 - - [07/Nov/2023 00:10:45] \"POST /RPC2 HTTP/1.1\" 200 -\n",
      "127.0.0.1 - - [07/Nov/2023 00:10:50] \"POST /RPC2 HTTP/1.1\" 200 -\n",
      "127.0.0.1 - - [07/Nov/2023 00:10:54] \"POST /RPC2 HTTP/1.1\" 200 -\n",
      "127.0.0.1 - - [07/Nov/2023 00:10:58] \"POST /RPC2 HTTP/1.1\" 200 -\n",
      "127.0.0.1 - - [07/Nov/2023 00:11:02] \"POST /RPC2 HTTP/1.1\" 200 -\n",
      "127.0.0.1 - - [07/Nov/2023 00:11:08] \"POST /RPC2 HTTP/1.1\" 200 -\n",
      "127.0.0.1 - - [07/Nov/2023 00:11:15] \"POST /RPC2 HTTP/1.1\" 200 -\n",
      "127.0.0.1 - - [07/Nov/2023 00:11:20] \"POST /RPC2 HTTP/1.1\" 200 -\n"
     ]
    }
   ],
   "source": [
    "\n",
    "from xmlrpc.server import SimpleXMLRPCServer\n",
    "from xmlrpc.server import SimpleXMLRPCRequestHandler\n",
    "\n",
    "import datetime\n",
    "import os\n",
    "import re\n",
    "import pandas as pd\n",
    "\n",
    "class RequestHandler(SimpleXMLRPCRequestHandler):\n",
    "    rpc_paths = ('/RPC2',)\n",
    "\n",
    "server = SimpleXMLRPCServer((\"localhost\", 8018), \n",
    "                            requestHandler=RequestHandler)\n",
    "\n",
    "CURRENT_FILENAME = 'log.csv'\n",
    "EVENTS_COUNT_THRESHOLD = 30\n",
    "\n",
    "def get_csv_str(file, event_type, event_datetime1, event_datetime2):\n",
    "    logs = pd.read_csv(file, delimiter=',', names=['type', 'datetime'])\n",
    "    res = logs[(logs.type == event_type) & (logs.datetime >= event_datetime1) & (logs.datetime < event_datetime2)]\n",
    "    if len(res) > 0:\n",
    "        return res.to_string()\n",
    "    return ''\n",
    "\n",
    "def get_events_info(event_type, event_datetime1, event_datetime2):\n",
    "    file_list = os.listdir(os.getcwd())\n",
    "    \n",
    "    prog = re.compile(r'^\\d{8}_\\d{6}.csv$')\n",
    "    file_date1 = event_datetime1.replace('-', '').replace(':', '').replace(' ', '_') + '.csv'\n",
    "    file_date2 = event_datetime2.replace('-', '').replace(':', '').replace(' ', '_') + '.csv'\n",
    "    str = '' \n",
    "    is_finded = False\n",
    "    \n",
    "    for file in file_list:\n",
    "        if prog.fullmatch(file) != None:\n",
    "            if file_date1 <= file and file_date2 > file:\n",
    "                str += get_csv_str(file, event_type, event_datetime1, event_datetime2)\n",
    "\n",
    "    str += get_csv_str('log.csv', event_type, event_datetime1, event_datetime2)\n",
    "    \n",
    "    if str == '':\n",
    "        return 'Нет результатов'\n",
    "    return str\n",
    "\n",
    "server.register_function(get_events_info, 'get_events_info')\n",
    "\n",
    "\n",
    "def need_save():\n",
    "    with open(CURRENT_FILENAME, 'r') as f:\n",
    "        lines_count = len(f.readlines())\n",
    "\n",
    "    if lines_count >= EVENTS_COUNT_THRESHOLD:\n",
    "        return True\n",
    "    return False\n",
    "            \n",
    "\n",
    "# Добавление строки в лог\n",
    "def add_log(sname):\n",
    "    if need_save():\n",
    "        os.rename(CURRENT_FILENAME, f'{datetime.datetime.now().strftime(\"%Y%m%d_%H%M%S\")}.csv')\n",
    "    \n",
    "    with open(CURRENT_FILENAME,'a') as f:\n",
    "        f.write(str(sname)+','+ datetime.datetime.now().strftime(\"%Y-%m-%d %H:%M:%S\") +'\\n')\n",
    "    return True\n",
    "\n",
    "server.register_function(add_log, 'add_log')\n",
    "\n",
    "print (\"Listening on port 8018...\")\n",
    "server.serve_forever()\n"
   ]
  },
  {
   "cell_type": "code",
   "execution_count": null,
   "metadata": {},
   "outputs": [],
   "source": []
  }
 ],
 "metadata": {
  "kernelspec": {
   "display_name": "Python 3 (ipykernel)",
   "language": "python",
   "name": "python3"
  },
  "language_info": {
   "codemirror_mode": {
    "name": "ipython",
    "version": 3
   },
   "file_extension": ".py",
   "mimetype": "text/x-python",
   "name": "python",
   "nbconvert_exporter": "python",
   "pygments_lexer": "ipython3",
   "version": "3.11.4"
  }
 },
 "nbformat": 4,
 "nbformat_minor": 2
}
